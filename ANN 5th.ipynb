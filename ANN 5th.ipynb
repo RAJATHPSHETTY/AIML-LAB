{
 "cells": [
  {
   "cell_type": "code",
   "execution_count": 1,
   "id": "7ed87125",
   "metadata": {},
   "outputs": [],
   "source": [
    "import numpy as np\n",
    "X=np.array(([2,9],[1,5],[3,6]),dtype=float)\n",
    "y=np.array(([92],[86],[89]),dtype=float)\n",
    "X=X/np.amax(X,axis=0)\n",
    "y=y/100"
   ]
  },
  {
   "cell_type": "code",
   "execution_count": 2,
   "id": "e3a5142e",
   "metadata": {},
   "outputs": [],
   "source": [
    "def sigmoid(x):\n",
    "    return 1/(1+np.exp(-x))"
   ]
  },
  {
   "cell_type": "code",
   "execution_count": 3,
   "id": "5ae13295",
   "metadata": {},
   "outputs": [],
   "source": [
    "def derivative_sigmoid(x):\n",
    "    return x*(1-x)"
   ]
  },
  {
   "cell_type": "code",
   "execution_count": 5,
   "id": "abd99b1a",
   "metadata": {},
   "outputs": [],
   "source": [
    "epoch=1000\n",
    "learning_rate=0.6\n",
    "inputlayer_neurons=2\n",
    "hiddenlayer_neurons=3\n",
    "output_neurons=1"
   ]
  },
  {
   "cell_type": "code",
   "execution_count": 6,
   "id": "1b81efa7",
   "metadata": {},
   "outputs": [],
   "source": [
    "A=np.random.uniform(size=(inputlayer_neurons,hiddenlayer_neurons))\n",
    "B=np.random.uniform(size=(1,hiddenlayer_neurons))\n",
    "C=np.random.uniform(size=(hiddenlayer_neurons,output_neurons))\n",
    "D=np.random.uniform(size=(1,output_neurons))"
   ]
  },
  {
   "cell_type": "code",
   "execution_count": 7,
   "id": "4fe435f7",
   "metadata": {},
   "outputs": [],
   "source": [
    "for i in range(epoch):\n",
    "    net_h=np.dot(X,A)+B\n",
    "    sigma_h=sigmoid(net_h)\n",
    "    \n",
    "    net_o=np.dot(sigma_h,C)+D\n",
    "    output=sigmoid(net_o)\n",
    "    \n",
    "    deltaK=(y-output)*derivative_sigmoid(output)\n",
    "    deltaH=deltaK.dot(C.T)*derivative_sigmoid(sigma_h)\n",
    "    C=C+sigma_h.T.dot(deltaK)*learning_rate\n",
    "    A=A+X.T.dot(deltaH)*learning_rate"
   ]
  },
  {
   "cell_type": "code",
   "execution_count": 8,
   "id": "314b4722",
   "metadata": {},
   "outputs": [
    {
     "name": "stdout",
     "output_type": "stream",
     "text": [
      "input\n",
      "[[0.66666667 1.        ]\n",
      " [0.33333333 0.55555556]\n",
      " [1.         0.66666667]]\n",
      "Actual output:\n",
      "[[0.92]\n",
      " [0.86]\n",
      " [0.89]]\n",
      "predicted output:\n",
      " [[0.89567952]\n",
      " [0.87737541]\n",
      " [0.89616118]]\n"
     ]
    }
   ],
   "source": [
    "print(\"input\\n\" +str(X))\n",
    "print(\"Actual output:\\n\" +str(y))\n",
    "print(\"predicted output:\\n\",output)"
   ]
  },
  {
   "cell_type": "code",
   "execution_count": null,
   "id": "23742c09",
   "metadata": {},
   "outputs": [],
   "source": []
  }
 ],
 "metadata": {
  "kernelspec": {
   "display_name": "Python 3 (ipykernel)",
   "language": "python",
   "name": "python3"
  },
  "language_info": {
   "codemirror_mode": {
    "name": "ipython",
    "version": 3
   },
   "file_extension": ".py",
   "mimetype": "text/x-python",
   "name": "python",
   "nbconvert_exporter": "python",
   "pygments_lexer": "ipython3",
   "version": "3.9.13"
  }
 },
 "nbformat": 4,
 "nbformat_minor": 5
}
