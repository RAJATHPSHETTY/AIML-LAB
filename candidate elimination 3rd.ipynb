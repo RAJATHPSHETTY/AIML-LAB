{
 "cells": [
  {
   "cell_type": "code",
   "execution_count": null,
   "id": "c309ec2b",
   "metadata": {},
   "outputs": [],
   "source": [
    "import pandas as pd\n",
    "df=pd.read_csv('Datasets/EnjoySports.csv')\n",
    "concepts=df.values[:,:-1]\n",
    "target=df.values[:,-1]\n",
    "df.head()"
   ]
  },
  {
   "cell_type": "code",
   "execution_count": null,
   "id": "1af578b3",
   "metadata": {},
   "outputs": [],
   "source": [
    "def learn(concepts,target)\n",
    "    specific_h=concepts[0].copy()\n",
    "    general_h=[[\"?\" for i in range (len(specific_h))] for i in range (len(specific_h)) ]\n",
    "    for i,h in enumerate(concepts):\n",
    "        if target[i]==\"yes\":\n",
    "            for x in range(len(specific_h)):\n",
    "                if h[x]!=specific_h[x]:\n",
    "                    specific_h[x]='?'\n",
    "                    general_h[x][x]='?'\n",
    "        if target[i]==\"no\":\n",
    "            for x in range(len(specific_h)):\n",
    "                if h[x]!=specific_h[x]:\n",
    "                    general_h[x][x]=specific_h[x]\n",
    "                else:\n",
    "                    general_h[x][x]='?'\n",
    "    indices=[i for i,val in enumerate(general_h) if val==['?','?','?','?','?','?']]\n",
    "    for i in indices:\n",
    "        general_h.remove(['?','?','?','?','?','?'])\n",
    "    return specific_h,general_h"
   ]
  },
  {
   "cell_type": "code",
   "execution_count": null,
   "id": "4cc461fe",
   "metadata": {},
   "outputs": [],
   "source": [
    "a,b=learn(concepts,target)\n",
    "print(f \"final s: {a}\")\n",
    "print(f \"final g: {b}\")"
   ]
  }
 ],
 "metadata": {
  "kernelspec": {
   "display_name": "Python 3 (ipykernel)",
   "language": "python",
   "name": "python3"
  },
  "language_info": {
   "codemirror_mode": {
    "name": "ipython",
    "version": 3
   },
   "file_extension": ".py",
   "mimetype": "text/x-python",
   "name": "python",
   "nbconvert_exporter": "python",
   "pygments_lexer": "ipython3",
   "version": "3.9.13"
  }
 },
 "nbformat": 4,
 "nbformat_minor": 5
}
